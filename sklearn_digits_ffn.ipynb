{
 "cells": [
  {
   "cell_type": "code",
   "execution_count": 33,
   "id": "435996a1-f11a-4189-91fa-b227beb18c2c",
   "metadata": {},
   "outputs": [],
   "source": [
    "from sklearn.datasets import load_digits\n",
    "digits = load_digits()"
   ]
  },
  {
   "cell_type": "code",
   "execution_count": 34,
   "id": "4963a086-7e38-438a-b65e-b1f960747457",
   "metadata": {},
   "outputs": [
    {
     "name": "stdout",
     "output_type": "stream",
     "text": [
      "(1797, 64)\n",
      "7\n"
     ]
    }
   ],
   "source": [
    "print(digits.data.shape)\n",
    "print(digits.target[44])"
   ]
  },
  {
   "cell_type": "code",
   "execution_count": 35,
   "id": "01c32047-eeed-4b98-b75a-4718a09fa911",
   "metadata": {},
   "outputs": [],
   "source": [
    "import torch\n",
    "import torch.nn as nn\n",
    "import torch.nn.functional as F\n",
    "import numpy as np\n",
    "import pandas as pd\n",
    "from torch.utils.data import TensorDataset, DataLoader"
   ]
  },
  {
   "cell_type": "code",
   "execution_count": 36,
   "id": "9ef0358e-d2fc-4268-bb94-603ed55c71e3",
   "metadata": {},
   "outputs": [],
   "source": [
    "data_tensor = torch.Tensor(digits.data)\n",
    "target_tensor = F.one_hot(torch.Tensor(digits.target).long(), 10).float()\n",
    "\n",
    "dataset = TensorDataset(data_tensor, target_tensor)\n",
    "\n",
    "# Create dataloader\n",
    "# Wait we are not doing backpropogation so cant we just make batch_size the entire thing?\n",
    "batch_size = 1797\n",
    "loader = DataLoader(dataset, batch_size=batch_size, shuffle=True)"
   ]
  },
  {
   "cell_type": "code",
   "execution_count": null,
   "id": "488f3861-4346-40a4-8538-3c6e41c555cb",
   "metadata": {},
   "outputs": [],
   "source": [
    "# Simple FFN approach\n",
    "\n",
    "class FFN(nn.Module):\n",
    "    def __init__(self):\n",
    "        super().__init__()\n",
    "        self.flatten = nn.Flatten()\n",
    "        linear_relu_stack = nn.Sequential(\n",
    "            nn.Linear(8*8, 32),\n",
    "            nn.ReLU(),\n",
    "            nn.Linear(32, 10),\n",
    "            # nn.ReLU(),\n",
    "            # nn.Linear(512, 10),\n",
    "        )\n",
    "\n",
    "    def forward(self, x):\n",
    "        # x = self.flatten(x)\n",
    "        logits = linear_relu_stack(x)\n",
    "        return logits\n",
    "        return F.softmax(logits, dim=0)\n",
    "\n",
    "model = FFN()\n",
    "\n",
    "epochs = 100\n",
    "batch_size = 10\n",
    "\n",
    "loss_fn = nn.CrossEntropyLoss()\n",
    "optimizer = torch.optim.Adam(model.parameters(), lr=0.001)\n",
    "\n",
    "for i in range(epochs):\n",
    "    for j in range(0, len(data_tensor), batch_size):\n",
    "        pred = model(data_tensor[j:j+batch_size])\n",
    "        \n",
    "        target = target_tensor[j:j+batch_size]\n",
    "\n",
    "        loss = loss_fn(pred, target)\n",
    "        optimizer.zero_grad()\n",
    "        loss.backward()\n",
    "        optimizer.step()\n",
    "\n",
    "    if i % 10 == 0:\n",
    "        print(loss.item())\n",
    "\n",
    "# Double check\n",
    "print(torch.argmax(model(data_tensor[5])))\n",
    "print(target_tensor[5])"
   ]
  }
 ],
 "metadata": {
  "kernelspec": {
   "display_name": "neuroevol",
   "language": "python",
   "name": "neuroevol"
  },
  "language_info": {
   "codemirror_mode": {
    "name": "ipython",
    "version": 3
   },
   "file_extension": ".py",
   "mimetype": "text/x-python",
   "name": "python",
   "nbconvert_exporter": "python",
   "pygments_lexer": "ipython3",
   "version": "3.12.7"
  }
 },
 "nbformat": 4,
 "nbformat_minor": 5
}
